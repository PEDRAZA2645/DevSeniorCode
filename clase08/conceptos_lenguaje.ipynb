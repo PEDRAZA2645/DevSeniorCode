{
 "cells": [
  {
   "cell_type": "markdown",
   "metadata": {},
   "source": [
    "# Conceptos del lenguaje"
   ]
  },
  {
   "cell_type": "markdown",
   "metadata": {},
   "source": [
    "## Comentarios"
   ]
  },
  {
   "cell_type": "code",
   "execution_count": null,
   "metadata": {},
   "outputs": [],
   "source": [
    "// Este es un comentario de una sola línea\n",
    "\n",
    "/* Este es un comentario\n",
    "   de múltiples líneas */\n",
    "\n",
    "/**\n",
    " * Calcula la suma de dos números.\n",
    " * @param num1 El primer número.\n",
    " * @param num2 El segundo número.\n",
    " * @return La suma de num1 y num2.\n",
    " */"
   ]
  },
  {
   "cell_type": "markdown",
   "metadata": {},
   "source": [
    "## Sentencias"
   ]
  },
  {
   "cell_type": "code",
   "execution_count": null,
   "metadata": {},
   "outputs": [],
   "source": [
    "int i=1;\n",
    "import java.awt.*;\n",
    "System.out.println(\"El primer programa\");\n",
    "rect.mover(10, 20);"
   ]
  },
  {
   "cell_type": "markdown",
   "metadata": {},
   "source": [
    "## Bloques de código"
   ]
  },
  {
   "cell_type": "code",
   "execution_count": null,
   "metadata": {},
   "outputs": [],
   "source": [
    "{\n",
    "    saludo=\"Hola mundo\";\n",
    "    System.out.println(saludo);\n",
    "}"
   ]
  },
  {
   "cell_type": "markdown",
   "metadata": {},
   "source": [
    "## Estructura de un archivo Java"
   ]
  },
  {
   "cell_type": "code",
   "execution_count": null,
   "metadata": {},
   "outputs": [],
   "source": [
    "package com.proyecto.aplicacion;\n",
    "\n",
    "import java.util.Scanner;\n",
    "\n",
    "public class HolaMundo {\n",
    "    public static void main(String[] args) {\n",
    "        Scanner scanner = new Scanner(System.in);\n",
    "\n",
    "        System.out.print(\"Introduce tu nombre: \");\n",
    "        String nombre = scanner.nextLine();\n",
    "\n",
    "        System.out.print(\"Introduce tu edad: \");\n",
    "        int edad = scanner.nextInt();\n",
    "\n",
    "        System.out.printf(\"Hola %s, tienes %d años.\\n\", nombre, edad);\n",
    "\n",
    "        scanner.close();\n",
    "            }\n",
    "}"
   ]
  },
  {
   "cell_type": "markdown",
   "metadata": {},
   "source": [
    "## Mostrar información en pantalla"
   ]
  },
  {
   "cell_type": "code",
   "execution_count": null,
   "metadata": {},
   "outputs": [],
   "source": [
    "System.out.print(\"Hola, \");\n",
    "System.out.print(\"mundo\");\n",
    "System.out.print(\"!\");\n",
    "\n",
    "// Salida: Hola, mundo!"
   ]
  },
  {
   "cell_type": "code",
   "execution_count": null,
   "metadata": {},
   "outputs": [],
   "source": [
    "System.out.println(\"Hola Mundo!\");\n",
    "// Salida: Hola, mundo!"
   ]
  },
  {
   "cell_type": "code",
   "execution_count": null,
   "metadata": {},
   "outputs": [],
   "source": [
    "int edad = 25;\n",
    "System.out.printf(\"Tienes %d años.\\n\", edad);\n",
    "// Salida: Tienes 25 años."
   ]
  },
  {
   "cell_type": "markdown",
   "metadata": {},
   "source": [
    "## Recibiendo datos del usuario (por teclado)"
   ]
  },
  {
   "cell_type": "code",
   "execution_count": null,
   "metadata": {},
   "outputs": [],
   "source": [
    "import java.util.Scanner;\n",
    "\n",
    "Scanner scanner = new Scanner(System.in);\n",
    "\n",
    "System.out.print(\"Introduce tu nombre: \");\n",
    "String nombre = scanner.nextLine();\n",
    "\n",
    "System.out.print(\"Introduce tu edad: \");\n",
    "int edad = scanner.nextInt();\n",
    "\n",
    "System.out.printf(\"Hola %s, tienes %d años.\\n\", nombre, edad);\n",
    "\n",
    "scanner.close();"
   ]
  },
  {
   "cell_type": "code",
   "execution_count": null,
   "metadata": {},
   "outputs": [],
   "source": [
    "import java.io.BufferedReader;\n",
    "import java.io.InputStreamReader;\n",
    "\n",
    "BufferedReader reader = new BufferedReader(new InputStreamReader(System.in));\n",
    "\n",
    "System.out.print(\"Introduce tu nombre: \");\n",
    "String nombre = reader.readLine();\n",
    "\n",
    "System.out.print(\"Introduce tu edad: \");\n",
    "int edad = Integer.parseInt(reader.readLine());\n",
    "\n",
    "System.out.println(\"Hola \" + nombre + \", tienes \" + edad + \" años.\");\n",
    "\n",
    "reader.close();"
   ]
  },
  {
   "cell_type": "code",
   "execution_count": null,
   "metadata": {},
   "outputs": [],
   "source": [
    "import java.io.Console;\n",
    "\n",
    "Console console = System.console();\n",
    "\n",
    "if (console != null) {\n",
    "    String nombre = console.readLine(\"Introduce tu nombre: \");\n",
    "    int edad = Integer.parseInt(console.readLine(\"Introduce tu edad: \"));\n",
    "\n",
    "    System.out.println(\"Hola \" + nombre + \", tienes \" + edad + \" años.\");\n",
    "} else {\n",
    "    System.out.println(\"No se puede obtener la consola.\");\n",
    "}"
   ]
  },
  {
   "cell_type": "markdown",
   "metadata": {},
   "source": [
    "## Definición de variables"
   ]
  },
  {
   "cell_type": "code",
   "execution_count": null,
   "metadata": {},
   "outputs": [],
   "source": [
    "int x=0;\n",
    "String nombre=\"Angel\";\n",
    "double a=3.5;\n",
    "boolean bNuevo=true;\n",
    "int[] datos;\n",
    "\n",
    "var number = 0;\n",
    "var list = List.of(1, 2, 3);\n",
    "var example = \"example\";\n",
    "var team = new Team();"
   ]
  },
  {
   "cell_type": "markdown",
   "metadata": {},
   "source": [
    "### Identificadores"
   ]
  },
  {
   "cell_type": "code",
   "execution_count": null,
   "metadata": {},
   "outputs": [],
   "source": [
    "MyVariable // Para nombres de clases\n",
    "MYVARIABLE // Para nombres de constantes\n",
    "myVariable // Para nombres de variables o métodos (funciones)"
   ]
  },
  {
   "cell_type": "markdown",
   "metadata": {},
   "source": [
    "### Tipos de datos primitivos\n",
    "\n",
    "| Tipo | Por defecto | Tamaño en memoria | Mínimo | Máximo | Sufijo |\n",
    "| --- | --- | --- | --- | --- | --- |\n",
    "| boolean |false | 1 bit | false | true |  |\n",
    "| byte | 0 | 1 byte / 8 bits | -128 | 127 |  |\n",
    "| char | '\\u0000' | 2 bytes / 16 bits | '\\u0000' | '\\uffff' |  |\n",
    "| short | 0 | 2 bytes / 16 bits | -32.768 | 32.767 |  |\n",
    "| int | 0 | 4 bytes / 32 bits | -2.147.483.648 | 2.147.483.647 |  |\n",
    "| long | 0L | 8 bytes / 64 bits | -9.223.372.036.854.775.808 | 9.223.372.036.854.775.807 | L / l |\n",
    "| float | 0.0F | 4 bytes / 32 bits | -3.40282347e38 | 3.40282347e38 | F / f |\n",
    "| double | 0.0 | 8 bytes / 64 bits | -1.79769313486231570E+308 | 1.79769313486231570E+308 | D / d |\n"
   ]
  },
  {
   "cell_type": "markdown",
   "metadata": {},
   "source": [
    "### Clase `String`"
   ]
  },
  {
   "cell_type": "code",
   "execution_count": null,
   "metadata": {},
   "outputs": [],
   "source": [
    "String cadena = \"Hola\\nMundo!\";\n",
    "var nombre = \"César Augusto Díaz Arriaga\";\n",
    "var emoji = \"\\uD83D\\uDE00\"; // 😀"
   ]
  },
  {
   "cell_type": "code",
   "execution_count": null,
   "metadata": {},
   "outputs": [],
   "source": [
    "String cadenaMultilinea = \"\"\"\n",
    "    Este es un ejemplo\n",
    "    de una cadena\n",
    "    multilínea en Java.\n",
    "    \"\"\";"
   ]
  },
  {
   "cell_type": "markdown",
   "metadata": {},
   "source": [
    "## Expresiones"
   ]
  },
  {
   "cell_type": "markdown",
   "metadata": {},
   "source": [
    "### Expresiones de asignacion\n",
    "| Operador | Descripción | Ejemplo | Resultado |\n",
    "| :-: | --- | --- | --- |\n",
    "| `=` | Operador de asignación | `n = 4` | n vale 4 |\n",
    "\n",
    "### Expresiones aritméticas\n",
    "| Operador | Descripción | Ejemplo | Resultado |\n",
    "| :-: | --- | --: | --: |\n",
    "| `-` | Operador unario de cambio de signo | `-4` | `-4` |\n",
    "| `+` | Suma | `2.5 + 7.1` | `9.6` |\n",
    "| `-` | Resta | `235.6 - 103.5` | `132.1` |\n",
    "| `*` | Producto (Multiplicación) | `1.2 * 1.1` | `1.32` |\n",
    "| `/` | División | `0.05 / 0.2` | `0.25` |\n",
    "| `/` | División (entera) | `7 / 2` | `3` |\n",
    "| `%` | Resto de la división entera (módulo) | `20 % 7` | `6` |\n",
    "\n",
    "#### Operadores de acumulación (incremento y decremento)\n",
    "| Operador | Descripción | Ejemplo | Resultado |\n",
    "| --- | --- | :-: | :-: |\n",
    "| `++` | Suma y asigna | `a += b` | `a = a + b` |\n",
    "| `--` | Resta y asigna | `a -= b` | `a = a - b` |\n",
    "\n",
    "#### Operadores de asignación compuesta\n",
    "| Operador | Descripción | Ejemplo | Resultado |\n",
    "| :-: | --- | :-: | :-: |\n",
    "| `+=` | Suma y asigna | `a += b` | `a = a + b` |\n",
    "| `-=` | Resta y asigna | `a -= b` | `a = a - b` |\n",
    "| `*=` | Multiplica y asigna | `a *= b` | `a = a * b` |\n",
    "| `/=` | Divide y asigna | `a /= b` | `a = a / b` |\n",
    "| `%=` | Calcula el módulo y asigna | `a %= b` | `a = a % b` |\n",
    "\n",
    "### Operadores relacionales o condicionales\n",
    "| Operador | Descripción | Ejemplo | Resultado |\n",
    "| :-: | --- | --- | --- |\n",
    "| `==` | Igual que | `7 == 38` | `false` |\n",
    "| `!=` | Distinto que | `'a' != 'k'` | `true` |\n",
    "| `<` | Menor que | `'G' < 'B'` | `false` |\n",
    "| `>` | Mayor que | `'b' > 'a'` | `true` |\n",
    "| `<=` | Menor o igual que | `7.5 <=7.38` | `false` |\n",
    "| `>=` | Mayor o igual que | `38 >= 7` | `true` |\n",
    "\n",
    "### Operadores lógicos o booleanos\n",
    "| Operador | Descripción | Ejemplo | Resultado |\n",
    "| :-: | --- | --- | --- |\n",
    "| `!` | NOT lógico (unario) | `!false` | `true` |\n",
    "| `&&` | AND lógico | `false && true` | `false` |\n",
    "| `\\|\\|` | OR lógico | `false \\|\\| true` | `true` |\n",
    "\n",
    "### Precedencia de operadores\n",
    "| Prioridad | Operador |\n",
    "| :-: | --- |\n",
    "| 1 | **Operadores Postfijos**: expr++, expr-- |\n",
    "| 2 | **Operadores Unarios**: ++expr, --expr, +expr, -expr, **!** |\n",
    "| 3 | **Multiplicación y División**: *, /, % |\n",
    "| 4 | **Suma y Resta**: +, - |\n",
    "| 6 | **Relacionales**: <, >, <=, >= |\n",
    "| 7 | **Igualdad**: ==, != |\n",
    "| 8 | **AND Lógico**: && |\n",
    "| 9 | **OR Lógico**: \\|\\| |\n",
    "| 10 | **Condicional**: ?: |\n",
    "| 11 | **Asignación**: =, +=, -=, *=, /=, %= |\n"
   ]
  },
  {
   "cell_type": "markdown",
   "metadata": {},
   "source": [
    "## Estructuras de control"
   ]
  },
  {
   "cell_type": "code",
   "execution_count": null,
   "metadata": {},
   "outputs": [],
   "source": [
    "var numero = 0;\n",
    "if (numero > 0) {\n",
    "    System.out.println(\"El número es positivo\");\n",
    "} else if (numero < 0) {\n",
    "    System.out.println(\"El número es negativo\");\n",
    "} else {\n",
    "    System.out.println(\"El número es cero\");\n",
    "}"
   ]
  },
  {
   "cell_type": "code",
   "execution_count": null,
   "metadata": {},
   "outputs": [],
   "source": [
    "int a = 10;\n",
    "int b = 20;\n",
    "int mayor = (a > b) ? a : b;\n",
    "System.out.println(\"El mayor es: \" + mayor);"
   ]
  },
  {
   "cell_type": "code",
   "execution_count": null,
   "metadata": {},
   "outputs": [],
   "source": [
    "int dia = 5;\n",
    "\n",
    "switch (dia) {\n",
    "    case 1:\n",
    "    case 2:\n",
    "    case 3:\n",
    "    case 4:\n",
    "    case 5:\n",
    "        System.out.println(\"Día laborable\");\n",
    "        break;\n",
    "    case 6:\n",
    "    case 7:\n",
    "        System.out.println(\"Fin de semana\");\n",
    "        break;\n",
    "    default:\n",
    "        System.out.println(\"Día no válido\");\n",
    "}"
   ]
  },
  {
   "cell_type": "code",
   "execution_count": null,
   "metadata": {},
   "outputs": [],
   "source": [
    "int mes = 3;\n",
    "String nombreMes = switch (mes) {\n",
    "    case 1 -> \"Enero\";\n",
    "    case 2 -> \"Febrero\";\n",
    "    case 3 -> \"Marzo\";\n",
    "    case 4 -> \"Abril\";\n",
    "    case 5 -> \"Mayo\";\n",
    "    case 6 -> \"Junio\";\n",
    "    case 7 -> \"Julio\";\n",
    "    case 8 -> \"Agosto\";\n",
    "    case 9 -> \"Septiembre\";\n",
    "    case 10 -> \"Octubre\";\n",
    "    case 11 -> \"Noviembre\";\n",
    "    case 12 -> \"Diciembre\";\n",
    "    default -> \"Mes no válido\";\n",
    "};\n",
    "System.out.println(\"El mes es: \" + nombreMes);"
   ]
  },
  {
   "cell_type": "markdown",
   "metadata": {},
   "source": [
    "## Estructuras de repetición (ciclos)"
   ]
  },
  {
   "cell_type": "code",
   "execution_count": null,
   "metadata": {},
   "outputs": [],
   "source": [
    "var n = 5;\n",
    "while (n > 0) {\n",
    "    System.out.println(n);\n",
    "    n--; //n = n - 1;\n",
    "}\n",
    "System.out.println('Despegue!');"
   ]
  },
  {
   "cell_type": "code",
   "execution_count": null,
   "metadata": {},
   "outputs": [],
   "source": [
    "var numero = 5;\n",
    "do {\n",
    "    System.out.println(numero);\n",
    "    numero--;\n",
    "} while (numero > 0);\n",
    "System.out.println(\"Boom!\");"
   ]
  },
  {
   "cell_type": "code",
   "execution_count": null,
   "metadata": {},
   "outputs": [],
   "source": [
    "for (int i = 0; i < 10; i++) {\n",
    "    if (i == 5) {\n",
    "        break; // Sale del bucle cuando i es 5\n",
    "    }\n",
    "    System.out.println(\"i es: \" + i);\n",
    "}"
   ]
  },
  {
   "cell_type": "code",
   "execution_count": null,
   "metadata": {},
   "outputs": [],
   "source": [
    "for (int i = 0; i < 10; i++) {\n",
    "    if (i % 2 == 0) {\n",
    "        continue; // Salta las iteraciones donde i es par\n",
    "    }\n",
    "    System.out.println(\"i es: \" + i);\n",
    "}"
   ]
  },
  {
   "cell_type": "markdown",
   "metadata": {},
   "source": [
    "## Paquetes en Java"
   ]
  },
  {
   "cell_type": "code",
   "execution_count": null,
   "metadata": {},
   "outputs": [],
   "source": [
    "package com.ejemplo.mipaquete;\n",
    "\n",
    "public class MiClase {\n",
    "    public void mostrar() {\n",
    "        System.out.println(\"Hola desde MiClase\");\n",
    "    }\n",
    "}"
   ]
  },
  {
   "cell_type": "markdown",
   "metadata": {},
   "source": [
    "## Clases en Java"
   ]
  },
  {
   "cell_type": "code",
   "execution_count": null,
   "metadata": {},
   "outputs": [],
   "source": [
    "public class Principal {\n",
    "    public static void main(String[] args) {\n",
    "        // Crear un objeto de la clase Coche\n",
    "        Coche miCoche = new Coche();\n",
    "        miCoche.color = \"Rojo\";\n",
    "        miCoche.marca = \"Toyota\";\n",
    "        miCoche.año = 2020;\n",
    "\n",
    "        // Llamar al método arrancar\n",
    "        miCoche.arrancar();\n",
    "    }\n",
    "}"
   ]
  },
  {
   "cell_type": "markdown",
   "metadata": {},
   "source": [
    "### Clases y métodos importantes en Java\n",
    "- Clase `Math`\n",
    "- Clase `Random`\n",
    "- Clase `Scanner`\n",
    "- Clase `String`\n",
    "- Manejo de fechas: API `java.time`\n",
    "  - `LocalDate`\n",
    "  - `LocalTime`\n",
    "  - `LocalDateTime`\n",
    "  - `ZonedDateTime`\n",
    "  - `Instant`\n",
    "- Wrapper classes\n",
    "  - `Byte`\n",
    "  - `Short`\n",
    "  - `Integer`\n",
    "  - `Long`\n",
    "  - `Float`\n",
    "  - `Double`\n",
    "  - `Character`\n",
    "  - `Boolean`\n"
   ]
  },
  {
   "cell_type": "markdown",
   "metadata": {},
   "source": [
    "## Estructuras de datos"
   ]
  },
  {
   "cell_type": "markdown",
   "metadata": {},
   "source": [
    "### Arrays"
   ]
  },
  {
   "cell_type": "code",
   "execution_count": null,
   "metadata": {},
   "outputs": [],
   "source": [
    "int[] numeros = new int[5];\n",
    "\n",
    "int[] numeros = {1, 2, 3, 4, 5};"
   ]
  },
  {
   "cell_type": "code",
   "execution_count": null,
   "metadata": {},
   "outputs": [],
   "source": [
    "// Declaración y creación de un array bidimensional de enteros\n",
    "int[][] matriz = new int[3][3];\n",
    "\n",
    "// Inicialización de un array bidimensional\n",
    "int[][] matriz = {\n",
    "    {1, 2, 3},\n",
    "    {4, 5, 6},\n",
    "    {7, 8, 9}\n",
    "};"
   ]
  },
  {
   "cell_type": "markdown",
   "metadata": {},
   "source": [
    "## Collections"
   ]
  },
  {
   "cell_type": "markdown",
   "metadata": {},
   "source": [
    "![Collection Framework](https://images.javatpoint.com/images/java-collection-hierarchy.png)"
   ]
  },
  {
   "cell_type": "markdown",
   "metadata": {},
   "source": [
    "### List\n",
    "![List](https://media.geeksforgeeks.org/wp-content/cdn-uploads/20200922124319/Singly-Linked-List1.png)"
   ]
  },
  {
   "cell_type": "code",
   "execution_count": null,
   "metadata": {},
   "outputs": [],
   "source": [
    "List<String> frutas = new ArrayList<>();\n",
    "frutas.add(\"Manzana\");\n",
    "frutas.add(\"Banana\");\n",
    "frutas.add(\"Naranja\");\n",
    "System.out.println(frutas.get(1)); "
   ]
  },
  {
   "cell_type": "markdown",
   "metadata": {},
   "source": [
    "### Set\n",
    "![Set](https://www.codejava.net/images/articles/javacore/collections/set/SetsInMath.png)"
   ]
  },
  {
   "cell_type": "code",
   "execution_count": null,
   "metadata": {},
   "outputs": [],
   "source": [
    "Set<String> frutas = new HashSet<>();\n",
    "frutas.add(\"Manzana\");\n",
    "frutas.add(\"Banana\");\n",
    "frutas.add(\"Naranja\");\n",
    "frutas.add(\"Manzana\"); // No se agregará ya que es un duplicado"
   ]
  },
  {
   "cell_type": "markdown",
   "metadata": {},
   "source": [
    "### Queue\n",
    "![Queue](https://media.geeksforgeeks.org/wp-content/cdn-uploads/20221213113312/Queue-Data-Structures.png)"
   ]
  },
  {
   "cell_type": "code",
   "execution_count": null,
   "metadata": {},
   "outputs": [],
   "source": [
    "Queue<String> cola = new LinkedList<>();\n",
    "cola.offer(\"Manzana\");\n",
    "cola.offer(\"Banana\");\n",
    "cola.offer(\"Naranja\");\n",
    "System.out.println(cola.poll()); // Imprime \"Manzana\""
   ]
  },
  {
   "cell_type": "markdown",
   "metadata": {},
   "source": [
    "### Stack\n",
    "![Stack](https://media.geeksforgeeks.org/wp-content/cdn-uploads/20221219100314/stack.drawio2.png)"
   ]
  },
  {
   "cell_type": "code",
   "execution_count": null,
   "metadata": {},
   "outputs": [],
   "source": [
    "Stack<String> pila = new Stack<>();\n",
    "        \n",
    "// Añadir elementos a la pila\n",
    "pila.push(\"Manzana\");\n",
    "pila.push(\"Banana\");\n",
    "pila.push(\"Naranja\");\n",
    "\n",
    "// Obtener el elemento superior sin eliminarlo\n",
    "System.out.println(\"Elemento en la cima: \" + pila.peek()); // Imprime \"Naranja\"\n",
    "\n",
    "// Eliminar el elemento superior\n",
    "System.out.println(\"Elemento eliminado: \" + pila.pop()); // Imprime \"Naranja\"\n",
    "\n",
    "// Verificar si la pila está vacía\n",
    "System.out.println(\"¿La pila está vacía? \" + pila.empty()); // Imprime \"false\"\n",
    "\n",
    "// Buscar un elemento\n",
    "System.out.println(\"Posición de 'Manzana': \" + pila.search(\"Manzana\")); // Imprime \"2\""
   ]
  },
  {
   "cell_type": "markdown",
   "metadata": {},
   "source": [
    "### Map\n",
    "![Map](https://www.codejava.net/images/articles/javacore/collections/map/Map_function_abstraction.png)"
   ]
  },
  {
   "cell_type": "code",
   "execution_count": null,
   "metadata": {},
   "outputs": [],
   "source": [
    "Map<String, Integer> mapa = new HashMap<>();\n",
    "mapa.put(\"Manzana\", 1);\n",
    "mapa.put(\"Banana\", 2);\n",
    "mapa.put(\"Naranja\", 3);\n",
    "System.out.println(mapa.get(\"Banana\")); // Imprime \"2\""
   ]
  }
 ],
 "metadata": {
  "kernelspec": {
   "display_name": "Java",
   "language": "java",
   "name": "java"
  },
  "language_info": {
   "name": "java"
  }
 },
 "nbformat": 4,
 "nbformat_minor": 2
}
