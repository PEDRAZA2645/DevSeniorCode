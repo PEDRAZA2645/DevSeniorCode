{
 "cells": [
  {
   "cell_type": "markdown",
   "metadata": {},
   "source": [
    "# Conceptos del lenguaje"
   ]
  },
  {
   "cell_type": "markdown",
   "metadata": {},
   "source": [
    "## Expresiones condicionales y lógicas"
   ]
  },
  {
   "cell_type": "markdown",
   "metadata": {},
   "source": [
    "- Las expresiones condicionales y lógicas en Java son fundamentales para controlar el flujo de ejecución de un programa.\n",
    "- Tiene como característica principal que el valor obtenido después de evaluar la expresión, será un valor booleano."
   ]
  },
  {
   "cell_type": "markdown",
   "metadata": {},
   "source": [
    "### Operadores relacionales o condicionales"
   ]
  },
  {
   "cell_type": "markdown",
   "metadata": {},
   "source": [
    "Los operadores relacionales en Java se utilizan para **comparar** dos valores o expresiones y devolver un resultado booleano (`true` o `false`).  \n",
    "| Operador | Descripción | Ejemplo | Resultado |\n",
    "| :-: | --- | --- | --- |\n",
    "| `==` | Igual que | `7 == 38` | `false` |\n",
    "| `!=` | Distinto que | `'a' != 'k'` | `true` |\n",
    "| `<` | Menor que | `'G' < 'B'` | `false` |\n",
    "| `>` | Mayor que | `'b' > 'a'` | `true` |\n",
    "| `<=` | Menor o igual que | `7.5 <=7.38` | `false` |\n",
    "| `>=` | Mayor o igual que | `38 >= 7` | `true` |\n"
   ]
  },
  {
   "cell_type": "code",
   "execution_count": null,
   "metadata": {},
   "outputs": [
    {
     "ename": "",
     "evalue": "",
     "output_type": "error",
     "traceback": [
      "\u001b[1;31mFailed to start the Kernel. \n",
      "\u001b[1;31mThe kernel 'Java' was not started as it is located in an insecure location 'c:\\ProgramData\\jupyter\\kernels\\java\\kernel.json'.  \n",
      "\u001b[1;31mClick <a href='https://aka.ms/JupyterTrustedKernelPaths'>here</a> for further details, optionally update the setting <a href='command:workbench.action.openSettings?[\"jupyter.kernels.trusted\"]'>jupyter.kernels.trusted</a> to trust the kernel."
     ]
    }
   ],
   "source": [
    "int a = 7;\n",
    "int b = 5;\n",
    "boolean esIgual = (a == b); // false\n",
    "boolean esDistinto = (a != b); // true\n",
    "boolean esMenor = (a < b); // false\n",
    "boolean esMayor = (a > b); // true\n",
    "\n",
    "a = 5;\n",
    "boolean esMenorOIgual = (a <= b); // true\n",
    "boolean esMayorOIgual = (a >= b); // true"
   ]
  },
  {
   "cell_type": "markdown",
   "metadata": {},
   "source": [
    "### Operadores lógicos o booleanos"
   ]
  },
  {
   "cell_type": "markdown",
   "metadata": {},
   "source": [
    "Las expresiones lógicas se utilizan para evaluar condiciones que tienen como operandos valores booleanos y resultado también booleano (true o false).\n",
    "\n",
    "| Operador | Descripción | Ejemplo | Resultado |\n",
    "| :-: | --- | --- | --- |\n",
    "| `!` | NOT lógico (unario) | `!false` | `true` |\n",
    "| `&&` | AND lógico | `false && true` | `false` |\n",
    "| `\\|\\|` | OR lógico | `false \\|\\| true` | `true` |"
   ]
  },
  {
   "cell_type": "code",
   "execution_count": null,
   "metadata": {},
   "outputs": [],
   "source": [
    "resultado = (5 > 3) && (8 > 6); // true\n",
    "resultado = (5 > 3) || (8 < 6); // true\n",
    "boolean resultado = !(5 > 3); // false"
   ]
  },
  {
   "cell_type": "markdown",
   "metadata": {},
   "source": [
    "### Precedencia de operadores"
   ]
  },
  {
   "cell_type": "markdown",
   "metadata": {},
   "source": [
    "| Prioridad | Operador |\n",
    "| :-: | --- |\n",
    "| 1 | **Operadores Postfijos**: expr++, expr-- |\n",
    "| 2 | **Operadores Unarios**: ++expr, --expr, +expr, -expr, **!** |\n",
    "| 3 | **Multiplicación y División**: *, /, % |\n",
    "| 4 | **Suma y Resta**: +, - |\n",
    "| 6 | **Relacionales**: <, >, <=, >= |\n",
    "| 7 | **Igualdad**: ==, != |\n",
    "| 8 | **AND Lógico**: && |\n",
    "| 9 | **OR Lógico**: \\|\\| |\n",
    "| 10 | **Condicional**: ?: |\n",
    "| 11 | **Asignación**: =, +=, -=, *=, /=, %= |"
   ]
  },
  {
   "cell_type": "markdown",
   "metadata": {},
   "source": [
    "## Estructuras de control"
   ]
  },
  {
   "cell_type": "markdown",
   "metadata": {},
   "source": [
    "### Estructura `if - else`"
   ]
  },
  {
   "cell_type": "markdown",
   "metadata": {},
   "source": [
    "La sentencia `if - else` en Java se utiliza para tomar decisiones en el flujo de un programa, permitiendo ejecutar diferentes bloques de código basados en condiciones específicas.\n",
    "\n",
    "```java\n",
    "if (condición) {\n",
    "    // Bloque de código que se ejecuta si la condición es verdadera\n",
    "} else {\n",
    "    // Bloque de código que se ejecuta si la condición es falsa\n",
    "}\n",
    "```\n",
    "#### Funcionamiento\n",
    "- `if`: Evalúa una condición. Si la condición es verdadera, se ejecuta el bloque de código dentro del `if`.\n",
    "- `else`: Si la condición del `if` es falsa, se ejecuta el bloque de código dentro del `else`."
   ]
  },
  {
   "cell_type": "code",
   "execution_count": null,
   "metadata": {},
   "outputs": [],
   "source": [
    "var numero = 10;\n",
    "if (numero >= 0) {\n",
    "    System.out.println(\"El número es positivo\");\n",
    "}"
   ]
  },
  {
   "cell_type": "code",
   "execution_count": null,
   "metadata": {},
   "outputs": [],
   "source": [
    "var numero = -10;\n",
    "if (numero >= 0) {\n",
    "    System.out.println(\"El número es positivo\");\n",
    "} else {\n",
    "    System.out.println(\"El número es negativo\");\n",
    "}"
   ]
  },
  {
   "cell_type": "code",
   "execution_count": null,
   "metadata": {},
   "outputs": [],
   "source": [
    "var a = -10;\n",
    "if (numero > 0) {\n",
    "    System.out.println(\"El número es positivo\");\n",
    "} else {\n",
    "    if (numero < 0) {\n",
    "        System.out.println(\"El número es negativo\");\n",
    "    } else {\n",
    "        System.out.println(\"El número es cero\");\n",
    "    }\n",
    "}"
   ]
  },
  {
   "cell_type": "code",
   "execution_count": null,
   "metadata": {},
   "outputs": [],
   "source": [
    "var numero = 0;\n",
    "if (numero > 0) {\n",
    "    System.out.println(\"El número es positivo\");\n",
    "} else if (numero < 0) {\n",
    "    System.out.println(\"El número es negativo\");\n",
    "} else {\n",
    "    System.out.println(\"El número es cero\");\n",
    "}"
   ]
  },
  {
   "cell_type": "markdown",
   "metadata": {},
   "source": [
    "#### Buenas Prácticas\n",
    "- **Claridad**: Asegúrate de que las condiciones sean claras y fáciles de entender.\n",
    "- **Eficiencia**: Coloca las condiciones más probables primero para mejorar la eficiencia.\n",
    "- **Legibilidad**: Usa sangrías y espacios adecuados para mejorar la legibilidad del código."
   ]
  },
  {
   "cell_type": "code",
   "execution_count": null,
   "metadata": {},
   "outputs": [],
   "source": [
    "int numero = 10;\n",
    "\n",
    "if (numero % 2 == 0) {\n",
    "    System.out.println(\"El número es par.\");\n",
    "} else {\n",
    "    System.out.println(\"El número es impar.\");\n",
    "}"
   ]
  },
  {
   "cell_type": "markdown",
   "metadata": {},
   "source": [
    "### Operador ternario `if - else`"
   ]
  },
  {
   "cell_type": "markdown",
   "metadata": {},
   "source": [
    "Se utiliza para evaluar una expresión booleana y devolver uno de dos valores posibles, dependiendo de si la expresión es verdadera o falsa.\n",
    "```java\n",
    "resultado = (condición) ? valor_si_verdadero : valor_si_falso;\n",
    "```\n",
    "El operador ternario es útil para simplificar el código y hacerlo más legible, especialmente cuando las condiciones son simples.  \n",
    "Sin embargo, para condiciones más complejas, es recomendable usar declaraciones `if - else` tradicionales para mantener la claridad del código."
   ]
  },
  {
   "cell_type": "markdown",
   "metadata": {},
   "source": [
    "#### Ejemplo 1: Encontrar el mayor de dos números"
   ]
  },
  {
   "cell_type": "code",
   "execution_count": null,
   "metadata": {},
   "outputs": [],
   "source": [
    "int a = 10;\n",
    "int b = 20;\n",
    "int mayor = (a > b) ? a : b;\n",
    "System.out.println(\"El mayor es: \" + mayor);"
   ]
  },
  {
   "cell_type": "markdown",
   "metadata": {},
   "source": [
    "#### Ejemplo 2: Verificar si un número es par o impar"
   ]
  },
  {
   "cell_type": "code",
   "execution_count": null,
   "metadata": {},
   "outputs": [],
   "source": [
    "int numero = 5;\n",
    "String resultado = (numero % 2 == 0) ? \"Par\" : \"Impar\";\n",
    "System.out.println(\"El número es: \" + resultado);"
   ]
  },
  {
   "cell_type": "markdown",
   "metadata": {},
   "source": [
    "#### Ejemplo 3: Asignar un valor basado en una condición"
   ]
  },
  {
   "cell_type": "code",
   "execution_count": null,
   "metadata": {},
   "outputs": [],
   "source": [
    "boolean esAdulto = true;\n",
    "String mensaje = esAdulto ? \"Eres un adulto\" : \"Eres un menor de edad\";\n",
    "System.out.println(mensaje);"
   ]
  },
  {
   "cell_type": "markdown",
   "metadata": {},
   "source": [
    "### Estructura `switch`"
   ]
  },
  {
   "cell_type": "markdown",
   "metadata": {},
   "source": [
    "La estructura `switch` en Java es una declaración de control de flujo que permite ejecutar diferentes bloques de código basados en el valor de una expresión.  \n",
    "Es especialmente útil cuando se necesita comparar una variable con múltiples valores posibles y ejecutar diferentes acciones según el caso.\n",
    "\n",
    "```java\n",
    "switch (expresión) {\n",
    "    case valor1:\n",
    "        // Bloque de código para el caso valor1\n",
    "        break;\n",
    "    case valor2:\n",
    "        // Bloque de código para el caso valor2\n",
    "        break;\n",
    "    // Puedes tener tantos casos como necesites\n",
    "    default:\n",
    "        // Bloque de código si ninguno de los casos anteriores coincide\n",
    "        break;\n",
    "}\n",
    "```\n",
    "\n",
    "#### Componentes\n",
    "- `expresión`: Es la variable o expresión que se evalúa una vez y se compara con los valores de cada caso.\n",
    "- `case`: Cada caso representa un valor posible de la expresión. Si la expresión coincide con el valor del caso, se ejecuta el bloque de código correspondiente.\n",
    "- `break`: Termina la ejecución del bloque de código dentro del caso. Si se omite, la ejecución continuará con el siguiente caso (esto se llama “fall-through”).\n",
    "- `default`: Es opcional y se ejecuta si ninguno de los casos coincide con el valor de la expresión. Es similar a un else en una estructura if-else."
   ]
  },
  {
   "cell_type": "code",
   "execution_count": null,
   "metadata": {},
   "outputs": [],
   "source": [
    "int dia = 3;\n",
    "String nombreDia;\n",
    "\n",
    "switch (dia) {\n",
    "    case 1:\n",
    "        nombreDia = \"Lunes\";\n",
    "        break;\n",
    "    case 2:\n",
    "        nombreDia = \"Martes\";\n",
    "        break;\n",
    "    case 3:\n",
    "        nombreDia = \"Miércoles\";\n",
    "        break;\n",
    "    case 4:\n",
    "        nombreDia = \"Jueves\";\n",
    "        break;\n",
    "    case 5:\n",
    "        nombreDia = \"Viernes\";\n",
    "        break;\n",
    "    case 6:\n",
    "        nombreDia = \"Sábado\";\n",
    "        break;\n",
    "    case 7:\n",
    "        nombreDia = \"Domingo\";\n",
    "        break;\n",
    "    default:\n",
    "        nombreDia = \"Día no válido\";\n",
    "        break;\n",
    "}\n",
    "\n",
    "System.out.println(\"El día es: \" + nombreDia);"
   ]
  },
  {
   "cell_type": "code",
   "execution_count": null,
   "metadata": {},
   "outputs": [],
   "source": [
    "int dia = 1;\n",
    "\n",
    "switch (dia) {\n",
    "    case 1:\n",
    "        System.out.println(\"Lunes\");\n",
    "    case 2:\n",
    "        System.out.println(\"Martes\");\n",
    "    case 3:\n",
    "        System.out.println(\"Miércoles\");\n",
    "        break;\n",
    "    case 4:\n",
    "        System.out.println(\"Jueves\");\n",
    "        break;\n",
    "    case 5:\n",
    "        nombreDia = \"Viernes\";\n",
    "        break;\n",
    "    case 6:\n",
    "        nombreDia = \"Sábado\";\n",
    "    case 7:\n",
    "        nombreDia = \"Domingo\";\n",
    "    default:\n",
    "        System.out.println(\"Día no válido\");\n",
    "}"
   ]
  },
  {
   "cell_type": "code",
   "execution_count": null,
   "metadata": {},
   "outputs": [],
   "source": [
    "int dia = 5;\n",
    "\n",
    "switch (dia) {\n",
    "    case 1:\n",
    "    case 2:\n",
    "    case 3:\n",
    "    case 4:\n",
    "    case 5:\n",
    "        System.out.println(\"Día laborable\");\n",
    "        break;\n",
    "    case 6:\n",
    "    case 7:\n",
    "        System.out.println(\"Fin de semana\");\n",
    "        break;\n",
    "    default:\n",
    "        System.out.println(\"Día no válido\");\n",
    "}"
   ]
  },
  {
   "cell_type": "markdown",
   "metadata": {},
   "source": [
    "#### Características y Buenas Prácticas\n",
    "- **Claridad**: La estructura switch puede hacer que el código sea más claro y fácil de leer cuando se compara con múltiples valores.\n",
    "- **Eficiencia**: Puede ser más eficiente que una serie de sentencias `if - else` cuando se trata de múltiples comparaciones.\n",
    "- **Uso del break**: Es importante recordar usar break para evitar la ejecución no deseada de múltiples casos.\n",
    "- **Tipos de Datos**: A partir de Java 7, switch puede trabajar con String, además de int, char, byte, short y enum."
   ]
  },
  {
   "cell_type": "code",
   "execution_count": null,
   "metadata": {},
   "outputs": [],
   "source": [
    "String fruta = \"Manzana\";\n",
    "\n",
    "switch (fruta) {\n",
    "    case \"Manzana\":\n",
    "        System.out.println(\"Es una manzana.\");\n",
    "        break;\n",
    "    case \"Naranja\":\n",
    "        System.out.println(\"Es una naranja.\");\n",
    "        break;\n",
    "    case \"Plátano\":\n",
    "        System.out.println(\"Es un plátano.\");\n",
    "        break;\n",
    "    default:\n",
    "        System.out.println(\"Fruta desconocida.\");\n",
    "        break;\n",
    "}\n"
   ]
  },
  {
   "cell_type": "code",
   "execution_count": null,
   "metadata": {},
   "outputs": [],
   "source": [
    "int mes = 4;\n",
    "String nombreMes;\n",
    "\n",
    "switch (mes) {\n",
    "    case 1:  nombreMes = \"Enero\"; break;\n",
    "    case 2:  nombreMes = \"Febrero\"; break;\n",
    "    case 3:  nombreMes = \"Marzo\"; break;\n",
    "    case 4:  nombreMes = \"Abril\"; break;\n",
    "    case 5:  nombreMes = \"Mayo\"; break;\n",
    "    case 6:  nombreMes = \"Junio\"; break;\n",
    "    case 7:  nombreMes = \"Julio\"; break;\n",
    "    case 8:  nombreMes = \"Agosto\"; break;\n",
    "    case 9:  nombreMes = \"Septiembre\"; break;\n",
    "    case 10: nombreMes = \"Octubre\"; break;\n",
    "    case 11: nombreMes = \"Noviembre\"; break;\n",
    "    case 12: nombreMes = \"Diciembre\"; break;\n",
    "    default: nombreMes = \"Mes no válido\"; break;\n",
    "}\n",
    "\n",
    "System.out.println(\"El mes es: \" + nombreMes);"
   ]
  },
  {
   "cell_type": "markdown",
   "metadata": {},
   "source": [
    "### Expresiones `switch`"
   ]
  },
  {
   "cell_type": "markdown",
   "metadata": {},
   "source": [
    "A partir de Java 12, se introdujo una nueva forma de usar el operador `switch`, conocida como **expresiones switch**.  \n",
    "Esta nueva sintaxis simplifica y mejora la legibilidad del código, eliminando la necesidad de usar `break` al final de cada caso y **permitiendo que switch devuelva un valor**.\n",
    "\n",
    "#### Características de las expresiones switch\n",
    "1. **Sintaxis de flecha** ( `->` ):\n",
    "    - Utiliza la flecha ( `->`) para asociar un valor de caso con una expresión o bloque de código.\n",
    "    - No es necesario usar break para evitar el fall-through."
   ]
  },
  {
   "cell_type": "code",
   "execution_count": null,
   "metadata": {},
   "outputs": [],
   "source": [
    "int mes = 3;\n",
    "String nombreMes = switch (mes) {\n",
    "    case 1 -> \"Enero\";\n",
    "    case 2 -> \"Febrero\";\n",
    "    case 3 -> \"Marzo\";\n",
    "    case 4 -> \"Abril\";\n",
    "    case 5 -> \"Mayo\";\n",
    "    case 6 -> \"Junio\";\n",
    "    case 7 -> \"Julio\";\n",
    "    case 8 -> \"Agosto\";\n",
    "    case 9 -> \"Septiembre\";\n",
    "    case 10 -> \"Octubre\";\n",
    "    case 11 -> \"Noviembre\";\n",
    "    case 12 -> \"Diciembre\";\n",
    "    default -> \"Mes no válido\";\n",
    "};\n",
    "System.out.println(\"El mes es: \" + nombreMes);"
   ]
  },
  {
   "cell_type": "markdown",
   "metadata": {},
   "source": [
    "2. **Bloques de código**:\n",
    "    - Puedes usar bloques de código con la sintaxis de flecha, encerrándolos entre llaves `{ }`.\n",
    "    - Podemos agrupar varios posibles valores en la misma definición del `case`,\n",
    "    - Para devolver el valor del bloque, usamos la palabra reservada `yield`"
   ]
  },
  {
   "cell_type": "code",
   "execution_count": null,
   "metadata": {},
   "outputs": [],
   "source": [
    "int dia = 5;\n",
    "String tipoDia = switch (dia) {\n",
    "    case 1, 2, 3, 4, 5 -> {\n",
    "        System.out.println(\"Día laborable\");\n",
    "        yield \"Laborable\";\n",
    "    }\n",
    "    case 6, 7 -> {\n",
    "        System.out.println(\"Fin de semana\");\n",
    "        yield \"Fin de semana\";\n",
    "    }\n",
    "    default -> \"Día no válido\";\n",
    "};\n",
    "System.out.println(\"El día es: \" + tipoDia);"
   ]
  },
  {
   "cell_type": "markdown",
   "metadata": {},
   "source": [
    "#### Ventajas de las Expresiones switch\n",
    "- **Legibilidad**: La nueva sintaxis es más concisa y fácil de leer.\n",
    "- **Seguridad**: Elimina el riesgo de *fall-through* accidental, ya que no se necesita `break`.\n",
    "- **Flexibilidad**: Permite devolver valores directamente, lo que puede simplificar el código."
   ]
  },
  {
   "cell_type": "code",
   "execution_count": null,
   "metadata": {},
   "outputs": [],
   "source": [
    "int mes = 7;\n",
    "String estacion = switch (mes) {\n",
    "    case 12, 1, 2 -> \"Invierno\";\n",
    "    case 3, 4, 5 -> \"Primavera\";\n",
    "    case 6, 7, 8 -> \"Verano\";\n",
    "    case 9, 10, 11 -> \"Otoño\";\n",
    "    default -> \"Mes no válido\";\n",
    "};\n",
    "System.out.println(\"La estación es: \" + estacion);"
   ]
  },
  {
   "cell_type": "markdown",
   "metadata": {},
   "source": [
    "## Estructuras de repetición (ciclos)"
   ]
  },
  {
   "cell_type": "markdown",
   "metadata": {},
   "source": [
    "Las estructuras de repetición, también conocidas como bucles o ciclos, en Java permiten ejecutar un bloque de código múltiples veces, basándose en una condición.  \n",
    "Estas estructuras son fundamentales para tareas que requieren iteración, como procesar elementos de una lista o realizar cálculos repetitivos."
   ]
  },
  {
   "cell_type": "markdown",
   "metadata": {},
   "source": [
    "### Estructura `while`"
   ]
  },
  {
   "cell_type": "markdown",
   "metadata": {},
   "source": [
    "El bucle while ejecuta un bloque de código mientras una condición especificada sea verdadera.  \n",
    "La condición se evalúa antes de cada iteración.\n",
    "\n",
    "#### Estructura\n",
    "```java\n",
    "Inicialización\n",
    "while (Condición) {\n",
    "    // Bloque de código a ejecutar\n",
    "    Avance;\n",
    "}\n",
    "```"
   ]
  },
  {
   "cell_type": "code",
   "execution_count": null,
   "metadata": {},
   "outputs": [],
   "source": [
    "var n = 5;\n",
    "while (n > 0) {\n",
    "    System.out.println(n);\n",
    "    n--; //n = n - 1;\n",
    "}\n",
    "System.out.println('Despegue!');"
   ]
  },
  {
   "cell_type": "markdown",
   "metadata": {},
   "source": [
    "#### Componentes\n",
    "- `Inicialización`: Aunque no es parte explícita de un while, las instrucciones que se encuentran antes son importantísimas porque realizan la inicialización del ciclo. Es decir, dejan las variables que nos interesen en el estado necesario para que se pueda ejecutar el ciclo y se obtenga el resultado esperado.\n",
    "- `Condición`:Cuando la condición de un `while` sea verdadera, el cuerpo del ciclo se ejecutará. Si lo vemos desde el punto de vista opuesto, el cuerpo del ciclo tendrá que ejecutarse hasta que la condición sea falsa.\n",
    "- `Avance`:  Siempre tiene que haber una o varias instrucciones que hagan que con cada iteración el ciclo esté más cerca de terminar. Si no se cumpliera esto, el ciclo nunca terminaría.\n"
   ]
  },
  {
   "cell_type": "code",
   "execution_count": null,
   "metadata": {},
   "outputs": [],
   "source": [
    "var numero = 5;\n",
    "var resultado = 1;\n",
    "while (numero > 1) {\n",
    "    resultado *= numero;\n",
    "    numero--;\n",
    "}\n",
    "System.out.println(resultado);"
   ]
  },
  {
   "cell_type": "markdown",
   "metadata": {},
   "source": [
    "### Estructura `do - while`"
   ]
  },
  {
   "cell_type": "markdown",
   "metadata": {},
   "source": [
    "El bucle `do - while` es similar al `while`, pero la condición se evalúa después de ejecutar el bloque de código, garantizando que el bloque se ejecute al menos una vez.\n",
    "#### Estructura\n",
    "```java\n",
    "Inicialización\n",
    "do {\n",
    "    // Bloque de código a ejecutar\n",
    "    Avance;\n",
    "} while (Condición);\n",
    "```\n",
    "**Nota**: Esta instrucción siempre termina con **punto y coma** (;)"
   ]
  },
  {
   "cell_type": "code",
   "execution_count": null,
   "metadata": {},
   "outputs": [],
   "source": [
    "var numero = 5;\n",
    "do {\n",
    "    System.out.println(numero);\n",
    "    numero--;\n",
    "} while (numero > 0);\n",
    "System.out.println(\"Boom!\");"
   ]
  },
  {
   "cell_type": "markdown",
   "metadata": {},
   "source": [
    "### Estructura `for`"
   ]
  },
  {
   "cell_type": "markdown",
   "metadata": {},
   "source": [
    "El ciclo `for` en Java es una simplificación del ciclo `while`. Es ideal para iteraciones que requieren un contador o cuando se conoce de antemano el número de iteraciones. Combina la **Inicialización**, la **Condición** y el **Avance** en una sola línea.\n",
    "\n",
    "#### Estructura\n",
    "```java\n",
    "for (Inicialización; Condición; Avance) {\n",
    "    // Bloque de código a ejecutar\n",
    "}\n",
    "```"
   ]
  },
  {
   "cell_type": "code",
   "execution_count": null,
   "metadata": {},
   "outputs": [],
   "source": [
    "for (var contador = 0; contador < 50; contador++) {\n",
    "    if (contador % 2 == 0) {\n",
    "        System.out.println(contador + \" es un número par!\");\n",
    "    }\n",
    "    if (contador % 3 == 0) {\n",
    "        System.out.println(contador + \" es múltiplo de 3!\");\n",
    "    }\n",
    "}"
   ]
  },
  {
   "cell_type": "markdown",
   "metadata": {},
   "source": [
    "### Sentencia `break`"
   ]
  },
  {
   "cell_type": "markdown",
   "metadata": {},
   "source": [
    "La sentencia `break` se utiliza para salir completamente de un bucle antes de que haya terminado su ciclo natural. Esto puede ser útil cuando se cumple una condición específica y ya no es necesario continuar con más iteraciones."
   ]
  },
  {
   "cell_type": "code",
   "execution_count": null,
   "metadata": {},
   "outputs": [],
   "source": [
    "for (int i = 0; i < 10; i++) {\n",
    "    if (i == 5) {\n",
    "        break; // Sale del bucle cuando i es 5\n",
    "    }\n",
    "    System.out.println(\"i es: \" + i);\n",
    "}"
   ]
  },
  {
   "cell_type": "markdown",
   "metadata": {},
   "source": [
    "### Sentencia `continue`"
   ]
  },
  {
   "cell_type": "markdown",
   "metadata": {},
   "source": [
    "La sentencia `continue` se utiliza para saltar el resto del código en la iteración actual y pasar directamente a la siguiente iteración del bucle. Esto es útil cuando se desea omitir ciertas iteraciones basadas en una condición."
   ]
  },
  {
   "cell_type": "code",
   "execution_count": null,
   "metadata": {},
   "outputs": [],
   "source": [
    "for (int i = 0; i < 10; i++) {\n",
    "    if (i % 2 == 0) {\n",
    "        continue; // Salta las iteraciones donde i es par\n",
    "    }\n",
    "    System.out.println(\"i es: \" + i);\n",
    "}"
   ]
  },
  {
   "cell_type": "markdown",
   "metadata": {},
   "source": [
    "## Ejercicios"
   ]
  },
  {
   "cell_type": "markdown",
   "metadata": {},
   "source": [
    "1. Este programa cuenta cuántos números pares e impares hay entre el 1 y el 20. Adicionalmente, imprime cada uno de los números pares que hay en el rango."
   ]
  },
  {
   "cell_type": "code",
   "execution_count": null,
   "metadata": {},
   "outputs": [],
   "source": [
    "public class ContadorParesImpares {\n",
    "    public static void main(String[] args) {\n",
    "        int pares = 0;\n",
    "        int impares = 0;\n",
    "\n",
    "        for (int i = 1; i <= 20; i++) {\n",
    "            if (i % 2 == 0) {\n",
    "                pares++;\n",
    "            } else {\n",
    "                impares++;\n",
    "                continue;\n",
    "            }\n",
    "            System.out.println(\"Número par: \" + i);\n",
    "        }\n",
    "\n",
    "        System.out.println(\"Total de números pares: \" + pares);\n",
    "        System.out.println(\"Total de números impares: \" + impares);\n",
    "    }\n",
    "}"
   ]
  },
  {
   "cell_type": "markdown",
   "metadata": {},
   "source": [
    "2. Este programa muestra un menú interactivo que permite al usuario seleccionar una opción hasta que decida salir."
   ]
  },
  {
   "cell_type": "code",
   "execution_count": null,
   "metadata": {},
   "outputs": [],
   "source": [
    "import java.util.Scanner;\n",
    "\n",
    "public class MenuInteractivo1 {\n",
    "    public static void main(String[] args) {\n",
    "        var scanner = new Scanner(System.in);\n",
    "        int opcion;\n",
    "\n",
    "        do {\n",
    "            System.out.println(\"Menú:\");\n",
    "            System.out.println(\"1. Opción 1\");\n",
    "            System.out.println(\"2. Opción 2\");\n",
    "            System.out.println(\"3. Salir\");\n",
    "            System.out.print(\"Elige una opción: \");\n",
    "            opcion = scanner.nextInt();\n",
    "\n",
    "            switch (opcion) {\n",
    "                case 1:\n",
    "                    System.out.println(\"Has elegido la Opción 1\");\n",
    "                    break;\n",
    "                case 2:\n",
    "                    System.out.println(\"Has elegido la Opción 2\");\n",
    "                    break;\n",
    "                case 3:\n",
    "                    System.out.println(\"Saliendo...\");\n",
    "                    break;\n",
    "                default:\n",
    "                    System.out.println(\"Opción no válida\");\n",
    "            }\n",
    "        } while (opcion != 3);\n",
    "        scanner.close();\n",
    "    }\n",
    "}"
   ]
  },
  {
   "cell_type": "markdown",
   "metadata": {},
   "source": [
    "3. Este programa permite al usuario adivinar un número entre 1 y 100. El número es generado aleatoriamente y le preguntará un número al usuario que adivine hasta que el usuario adivina correctamente. En el caso contrario, le indicará si el numero dado es mayor o menor al numero a adivinar."
   ]
  },
  {
   "cell_type": "code",
   "execution_count": null,
   "metadata": {},
   "outputs": [],
   "source": [
    "import java.util.Scanner;\n",
    "import java.util.Random;\n",
    "\n",
    "public class JuegoAdivinanza {\n",
    "    public static void main(String[] args) {\n",
    "        var scanner = new Scanner(System.in);\n",
    "        var random = new Random();\n",
    "        int numeroSecreto = random.nextInt(100) + 1;\n",
    "        int intento;\n",
    "        int intentos = 1;\n",
    "\n",
    "        System.out.println(\"¡Bienvenido al juego de adivinanza de números!\");\n",
    "        System.out.println(\"Adivina un número entre 1 y 100:\");\n",
    "\n",
    "        while (true) {\n",
    "            System.out.print(\"Introduce tu adivinanza: \");\n",
    "            intento = scanner.nextInt();\n",
    "            intentos++;\n",
    "\n",
    "            if (intento == numeroSecreto) {\n",
    "                System.out.println(\"¡Felicidades! Adivinaste el número en \" + intentos + \" intentos.\");\n",
    "                break;\n",
    "            } else if (intento < numeroSecreto) {\n",
    "                System.out.println(\"El número secreto es mayor. Intenta de nuevo.\");\n",
    "            } else {\n",
    "                System.out.println(\"El número secreto es menor. Intenta de nuevo.\");\n",
    "            }\n",
    "        }\n",
    "        scanner.close();\n",
    "        System.out.println(\"Gracias por jugar. ¡Hasta la próxima!\");\n",
    "    }\n",
    "}"
   ]
  }
 ],
 "metadata": {
  "kernelspec": {
   "display_name": "Java",
   "language": "java",
   "name": "java"
  },
  "language_info": {
   "name": "java"
  }
 },
 "nbformat": 4,
 "nbformat_minor": 2
}
